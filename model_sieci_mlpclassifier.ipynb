{
 "cells": [
  {
   "cell_type": "code",
   "execution_count": 1,
   "id": "f947781d",
   "metadata": {},
   "outputs": [],
   "source": [
    "import pandas as pd\n",
    "from sklearn.preprocessing import LabelEncoder\n",
    "from sklearn.neural_network import MLPClassifier\n",
    "from sklearn.model_selection import GridSearchCV\n",
    "from sklearn.metrics import classification_report, ConfusionMatrixDisplay, confusion_matrix\n",
    "import pickle"
   ]
  },
  {
   "cell_type": "markdown",
   "id": "8f6ec79c",
   "metadata": {},
   "source": [
    "# Przygotowanie danych"
   ]
  },
  {
   "cell_type": "code",
   "execution_count": 2,
   "id": "b776dd16",
   "metadata": {},
   "outputs": [
    {
     "data": {
      "text/html": [
       "<div>\n",
       "<style scoped>\n",
       "    .dataframe tbody tr th:only-of-type {\n",
       "        vertical-align: middle;\n",
       "    }\n",
       "\n",
       "    .dataframe tbody tr th {\n",
       "        vertical-align: top;\n",
       "    }\n",
       "\n",
       "    .dataframe thead th {\n",
       "        text-align: right;\n",
       "    }\n",
       "</style>\n",
       "<table border=\"1\" class=\"dataframe\">\n",
       "  <thead>\n",
       "    <tr style=\"text-align: right;\">\n",
       "      <th></th>\n",
       "      <th>Age</th>\n",
       "      <th>Sex</th>\n",
       "      <th>ChestPainType</th>\n",
       "      <th>RestingBP</th>\n",
       "      <th>Cholesterol</th>\n",
       "      <th>FastingBS</th>\n",
       "      <th>RestingECG</th>\n",
       "      <th>MaxHR</th>\n",
       "      <th>ExerciseAngina</th>\n",
       "      <th>Oldpeak</th>\n",
       "      <th>ST_Slope</th>\n",
       "      <th>HeartDisease</th>\n",
       "    </tr>\n",
       "  </thead>\n",
       "  <tbody>\n",
       "    <tr>\n",
       "      <th>0</th>\n",
       "      <td>40</td>\n",
       "      <td>M</td>\n",
       "      <td>ATA</td>\n",
       "      <td>140</td>\n",
       "      <td>289</td>\n",
       "      <td>0</td>\n",
       "      <td>Normal</td>\n",
       "      <td>172</td>\n",
       "      <td>N</td>\n",
       "      <td>0.0</td>\n",
       "      <td>Up</td>\n",
       "      <td>0</td>\n",
       "    </tr>\n",
       "    <tr>\n",
       "      <th>1</th>\n",
       "      <td>49</td>\n",
       "      <td>F</td>\n",
       "      <td>NAP</td>\n",
       "      <td>160</td>\n",
       "      <td>180</td>\n",
       "      <td>0</td>\n",
       "      <td>Normal</td>\n",
       "      <td>156</td>\n",
       "      <td>N</td>\n",
       "      <td>1.0</td>\n",
       "      <td>Flat</td>\n",
       "      <td>1</td>\n",
       "    </tr>\n",
       "    <tr>\n",
       "      <th>2</th>\n",
       "      <td>37</td>\n",
       "      <td>M</td>\n",
       "      <td>ATA</td>\n",
       "      <td>130</td>\n",
       "      <td>283</td>\n",
       "      <td>0</td>\n",
       "      <td>ST</td>\n",
       "      <td>98</td>\n",
       "      <td>N</td>\n",
       "      <td>0.0</td>\n",
       "      <td>Up</td>\n",
       "      <td>0</td>\n",
       "    </tr>\n",
       "    <tr>\n",
       "      <th>3</th>\n",
       "      <td>48</td>\n",
       "      <td>F</td>\n",
       "      <td>ASY</td>\n",
       "      <td>138</td>\n",
       "      <td>214</td>\n",
       "      <td>0</td>\n",
       "      <td>Normal</td>\n",
       "      <td>108</td>\n",
       "      <td>Y</td>\n",
       "      <td>1.5</td>\n",
       "      <td>Flat</td>\n",
       "      <td>1</td>\n",
       "    </tr>\n",
       "    <tr>\n",
       "      <th>4</th>\n",
       "      <td>54</td>\n",
       "      <td>M</td>\n",
       "      <td>NAP</td>\n",
       "      <td>150</td>\n",
       "      <td>195</td>\n",
       "      <td>0</td>\n",
       "      <td>Normal</td>\n",
       "      <td>122</td>\n",
       "      <td>N</td>\n",
       "      <td>0.0</td>\n",
       "      <td>Up</td>\n",
       "      <td>0</td>\n",
       "    </tr>\n",
       "  </tbody>\n",
       "</table>\n",
       "</div>"
      ],
      "text/plain": [
       "   Age Sex ChestPainType  RestingBP  Cholesterol  FastingBS RestingECG  MaxHR  \\\n",
       "0   40   M           ATA        140          289          0     Normal    172   \n",
       "1   49   F           NAP        160          180          0     Normal    156   \n",
       "2   37   M           ATA        130          283          0         ST     98   \n",
       "3   48   F           ASY        138          214          0     Normal    108   \n",
       "4   54   M           NAP        150          195          0     Normal    122   \n",
       "\n",
       "  ExerciseAngina  Oldpeak ST_Slope  HeartDisease  \n",
       "0              N      0.0       Up             0  \n",
       "1              N      1.0     Flat             1  \n",
       "2              N      0.0       Up             0  \n",
       "3              Y      1.5     Flat             1  \n",
       "4              N      0.0       Up             0  "
      ]
     },
     "execution_count": 2,
     "metadata": {},
     "output_type": "execute_result"
    }
   ],
   "source": [
    "df = pd.read_csv('heart.csv')\n",
    "df.head()"
   ]
  },
  {
   "cell_type": "markdown",
   "id": "d04aed69",
   "metadata": {},
   "source": [
    "### Usuniecie kolumny 'Oldpeak'"
   ]
  },
  {
   "cell_type": "code",
   "execution_count": 3,
   "id": "58e70c5b",
   "metadata": {},
   "outputs": [],
   "source": [
    "df.drop(['Oldpeak'], axis=1, inplace=True)"
   ]
  },
  {
   "cell_type": "markdown",
   "id": "3b3a5e80",
   "metadata": {},
   "source": [
    "### Sprawdzenie, czy sa braki w danych"
   ]
  },
  {
   "cell_type": "code",
   "execution_count": 4,
   "id": "2c158264",
   "metadata": {},
   "outputs": [
    {
     "data": {
      "text/plain": [
       "Age               False\n",
       "Sex               False\n",
       "ChestPainType     False\n",
       "RestingBP         False\n",
       "Cholesterol       False\n",
       "FastingBS         False\n",
       "RestingECG        False\n",
       "MaxHR             False\n",
       "ExerciseAngina    False\n",
       "ST_Slope          False\n",
       "HeartDisease      False\n",
       "dtype: bool"
      ]
     },
     "execution_count": 4,
     "metadata": {},
     "output_type": "execute_result"
    }
   ],
   "source": [
    "df.isnull().any()"
   ]
  },
  {
   "cell_type": "markdown",
   "id": "a5db7b56",
   "metadata": {},
   "source": [
    "### Znalezienie zmiennych kategorycznych"
   ]
  },
  {
   "cell_type": "code",
   "execution_count": 5,
   "id": "5e423eda",
   "metadata": {},
   "outputs": [
    {
     "data": {
      "text/plain": [
       "['Sex', 'ChestPainType', 'RestingECG', 'ExerciseAngina', 'ST_Slope']"
      ]
     },
     "execution_count": 5,
     "metadata": {},
     "output_type": "execute_result"
    }
   ],
   "source": [
    "categorical_cols = [col for col in df.columns if df[col].dtype == 'object']\n",
    "categorical_cols"
   ]
  },
  {
   "cell_type": "markdown",
   "id": "fa11ba14",
   "metadata": {},
   "source": [
    "### Zakodowanie zmiennych kategorycznych "
   ]
  },
  {
   "cell_type": "code",
   "execution_count": 6,
   "id": "189eb2c0",
   "metadata": {},
   "outputs": [
    {
     "name": "stdout",
     "output_type": "stream",
     "text": [
      "Column: Sex - Classes: ['F' 'M'] - Labels: [0 1]\n",
      "Column: ChestPainType - Classes: ['ASY' 'ATA' 'NAP' 'TA'] - Labels: [0 1 2 3]\n",
      "Column: RestingECG - Classes: ['LVH' 'Normal' 'ST'] - Labels: [0 1 2]\n",
      "Column: ExerciseAngina - Classes: ['N' 'Y'] - Labels: [0 1]\n",
      "Column: ST_Slope - Classes: ['Down' 'Flat' 'Up'] - Labels: [0 1 2]\n"
     ]
    }
   ],
   "source": [
    "le_dict = {}\n",
    "df_copy = df.copy()\n",
    "\n",
    "for col in categorical_cols:\n",
    "\n",
    "    le_dict[col] = LabelEncoder()\n",
    "    le_dict[col].fit(df[col])\n",
    "    \n",
    "    print('Column: {} - Classes: {} - Labels: {}'.format(\n",
    "        col, le_dict[col].classes_, le_dict[col].transform(le_dict[col].classes_)))\n",
    "    \n",
    "    df[col] = le_dict[col].transform(df[col])"
   ]
  },
  {
   "cell_type": "code",
   "execution_count": 7,
   "id": "e3f6407a",
   "metadata": {},
   "outputs": [
    {
     "data": {
      "text/html": [
       "<div>\n",
       "<style scoped>\n",
       "    .dataframe tbody tr th:only-of-type {\n",
       "        vertical-align: middle;\n",
       "    }\n",
       "\n",
       "    .dataframe tbody tr th {\n",
       "        vertical-align: top;\n",
       "    }\n",
       "\n",
       "    .dataframe thead th {\n",
       "        text-align: right;\n",
       "    }\n",
       "</style>\n",
       "<table border=\"1\" class=\"dataframe\">\n",
       "  <thead>\n",
       "    <tr style=\"text-align: right;\">\n",
       "      <th></th>\n",
       "      <th>Age</th>\n",
       "      <th>Sex</th>\n",
       "      <th>ChestPainType</th>\n",
       "      <th>RestingBP</th>\n",
       "      <th>Cholesterol</th>\n",
       "      <th>FastingBS</th>\n",
       "      <th>RestingECG</th>\n",
       "      <th>MaxHR</th>\n",
       "      <th>ExerciseAngina</th>\n",
       "      <th>ST_Slope</th>\n",
       "      <th>HeartDisease</th>\n",
       "    </tr>\n",
       "  </thead>\n",
       "  <tbody>\n",
       "    <tr>\n",
       "      <th>0</th>\n",
       "      <td>40</td>\n",
       "      <td>1</td>\n",
       "      <td>1</td>\n",
       "      <td>140</td>\n",
       "      <td>289</td>\n",
       "      <td>0</td>\n",
       "      <td>1</td>\n",
       "      <td>172</td>\n",
       "      <td>0</td>\n",
       "      <td>2</td>\n",
       "      <td>0</td>\n",
       "    </tr>\n",
       "    <tr>\n",
       "      <th>1</th>\n",
       "      <td>49</td>\n",
       "      <td>0</td>\n",
       "      <td>2</td>\n",
       "      <td>160</td>\n",
       "      <td>180</td>\n",
       "      <td>0</td>\n",
       "      <td>1</td>\n",
       "      <td>156</td>\n",
       "      <td>0</td>\n",
       "      <td>1</td>\n",
       "      <td>1</td>\n",
       "    </tr>\n",
       "    <tr>\n",
       "      <th>2</th>\n",
       "      <td>37</td>\n",
       "      <td>1</td>\n",
       "      <td>1</td>\n",
       "      <td>130</td>\n",
       "      <td>283</td>\n",
       "      <td>0</td>\n",
       "      <td>2</td>\n",
       "      <td>98</td>\n",
       "      <td>0</td>\n",
       "      <td>2</td>\n",
       "      <td>0</td>\n",
       "    </tr>\n",
       "    <tr>\n",
       "      <th>3</th>\n",
       "      <td>48</td>\n",
       "      <td>0</td>\n",
       "      <td>0</td>\n",
       "      <td>138</td>\n",
       "      <td>214</td>\n",
       "      <td>0</td>\n",
       "      <td>1</td>\n",
       "      <td>108</td>\n",
       "      <td>1</td>\n",
       "      <td>1</td>\n",
       "      <td>1</td>\n",
       "    </tr>\n",
       "    <tr>\n",
       "      <th>4</th>\n",
       "      <td>54</td>\n",
       "      <td>1</td>\n",
       "      <td>2</td>\n",
       "      <td>150</td>\n",
       "      <td>195</td>\n",
       "      <td>0</td>\n",
       "      <td>1</td>\n",
       "      <td>122</td>\n",
       "      <td>0</td>\n",
       "      <td>2</td>\n",
       "      <td>0</td>\n",
       "    </tr>\n",
       "  </tbody>\n",
       "</table>\n",
       "</div>"
      ],
      "text/plain": [
       "   Age  Sex  ChestPainType  RestingBP  Cholesterol  FastingBS  RestingECG  \\\n",
       "0   40    1              1        140          289          0           1   \n",
       "1   49    0              2        160          180          0           1   \n",
       "2   37    1              1        130          283          0           2   \n",
       "3   48    0              0        138          214          0           1   \n",
       "4   54    1              2        150          195          0           1   \n",
       "\n",
       "   MaxHR  ExerciseAngina  ST_Slope  HeartDisease  \n",
       "0    172               0         2             0  \n",
       "1    156               0         1             1  \n",
       "2     98               0         2             0  \n",
       "3    108               1         1             1  \n",
       "4    122               0         2             0  "
      ]
     },
     "execution_count": 7,
     "metadata": {},
     "output_type": "execute_result"
    }
   ],
   "source": [
    "df.head()"
   ]
  },
  {
   "cell_type": "markdown",
   "id": "717b7f07",
   "metadata": {},
   "source": [
    "# Trenowanie modelu"
   ]
  },
  {
   "cell_type": "markdown",
   "id": "e980bd29",
   "metadata": {},
   "source": [
    "### Podzial zbioru na X i y"
   ]
  },
  {
   "cell_type": "code",
   "execution_count": 8,
   "id": "4ed009b1",
   "metadata": {},
   "outputs": [],
   "source": [
    "X = df.drop('HeartDisease', axis=1).copy()\n",
    "y = df['HeartDisease'].copy()"
   ]
  },
  {
   "cell_type": "markdown",
   "id": "aecddf39",
   "metadata": {},
   "source": [
    "### Optymalizacja hiperparametrow z wykorzystaniem walidacji krzyzowej 5-krotnej"
   ]
  },
  {
   "cell_type": "code",
   "execution_count": 9,
   "id": "951f62be",
   "metadata": {},
   "outputs": [],
   "source": [
    "mlp = MLPClassifier(random_state=123, activation='logistic', max_iter=1000)\n",
    "mlp_params = {\n",
    "    'hidden_layer_sizes': [(100,), (100, 50), (50,)],\n",
    "    'solver': ['sgd', 'adam'],\n",
    "}\n",
    "\n",
    "mlp_search = GridSearchCV(mlp, mlp_params, scoring='accuracy')\n",
    "mlp_search = mlp_search.fit(X, y)"
   ]
  },
  {
   "cell_type": "markdown",
   "id": "18df28f3",
   "metadata": {},
   "source": [
    "Dokladnosc modelu dla kazdej sprawdzanej kombinacji parametrow:"
   ]
  },
  {
   "cell_type": "code",
   "execution_count": 30,
   "id": "3adc2d5a",
   "metadata": {},
   "outputs": [
    {
     "data": {
      "text/html": [
       "<div>\n",
       "<style scoped>\n",
       "    .dataframe tbody tr th:only-of-type {\n",
       "        vertical-align: middle;\n",
       "    }\n",
       "\n",
       "    .dataframe tbody tr th {\n",
       "        vertical-align: top;\n",
       "    }\n",
       "\n",
       "    .dataframe thead th {\n",
       "        text-align: right;\n",
       "    }\n",
       "</style>\n",
       "<table border=\"1\" class=\"dataframe\">\n",
       "  <thead>\n",
       "    <tr style=\"text-align: right;\">\n",
       "      <th></th>\n",
       "      <th>param_hidden_layer_sizes</th>\n",
       "      <th>param_solver</th>\n",
       "      <th>mean_test_score</th>\n",
       "      <th>rank_test_score</th>\n",
       "    </tr>\n",
       "  </thead>\n",
       "  <tbody>\n",
       "    <tr>\n",
       "      <th>0</th>\n",
       "      <td>(50,)</td>\n",
       "      <td>adam</td>\n",
       "      <td>0.816958</td>\n",
       "      <td>1</td>\n",
       "    </tr>\n",
       "    <tr>\n",
       "      <th>1</th>\n",
       "      <td>(100,)</td>\n",
       "      <td>adam</td>\n",
       "      <td>0.815859</td>\n",
       "      <td>2</td>\n",
       "    </tr>\n",
       "    <tr>\n",
       "      <th>2</th>\n",
       "      <td>(100, 50)</td>\n",
       "      <td>adam</td>\n",
       "      <td>0.811505</td>\n",
       "      <td>3</td>\n",
       "    </tr>\n",
       "    <tr>\n",
       "      <th>3</th>\n",
       "      <td>(50,)</td>\n",
       "      <td>sgd</td>\n",
       "      <td>0.701526</td>\n",
       "      <td>4</td>\n",
       "    </tr>\n",
       "    <tr>\n",
       "      <th>4</th>\n",
       "      <td>(100,)</td>\n",
       "      <td>sgd</td>\n",
       "      <td>0.700416</td>\n",
       "      <td>5</td>\n",
       "    </tr>\n",
       "    <tr>\n",
       "      <th>5</th>\n",
       "      <td>(100, 50)</td>\n",
       "      <td>sgd</td>\n",
       "      <td>0.663489</td>\n",
       "      <td>6</td>\n",
       "    </tr>\n",
       "  </tbody>\n",
       "</table>\n",
       "</div>"
      ],
      "text/plain": [
       "  param_hidden_layer_sizes param_solver  mean_test_score  rank_test_score\n",
       "0                    (50,)         adam         0.816958                1\n",
       "1                   (100,)         adam         0.815859                2\n",
       "2                (100, 50)         adam         0.811505                3\n",
       "3                    (50,)          sgd         0.701526                4\n",
       "4                   (100,)          sgd         0.700416                5\n",
       "5                (100, 50)          sgd         0.663489                6"
      ]
     },
     "execution_count": 30,
     "metadata": {},
     "output_type": "execute_result"
    }
   ],
   "source": [
    "grid_search_results = pd.DataFrame(mlp_search.cv_results_)\n",
    "columns = [i for i in grid_search_results.columns if i.startswith('param_')]\n",
    "columns.extend(['mean_test_score', 'rank_test_score'])\n",
    "grid_search_results = grid_search_results[columns].sort_values(by='rank_test_score').reset_index(drop=True)\n",
    "grid_search_results"
   ]
  },
  {
   "cell_type": "code",
   "execution_count": 10,
   "id": "e8f401d0",
   "metadata": {},
   "outputs": [
    {
     "data": {
      "text/plain": [
       "0.8169577096697551"
      ]
     },
     "execution_count": 10,
     "metadata": {},
     "output_type": "execute_result"
    }
   ],
   "source": [
    "mlp_search.best_score_"
   ]
  },
  {
   "cell_type": "code",
   "execution_count": 11,
   "id": "ecb79662",
   "metadata": {},
   "outputs": [
    {
     "data": {
      "text/plain": [
       "{'hidden_layer_sizes': (50,), 'solver': 'adam'}"
      ]
     },
     "execution_count": 11,
     "metadata": {},
     "output_type": "execute_result"
    }
   ],
   "source": [
    "mlp_search.best_params_"
   ]
  },
  {
   "cell_type": "markdown",
   "id": "c3380e70",
   "metadata": {},
   "source": [
    "### Budowa modelu wykorzystujac parametry dajace najwyzsza dokladnosc"
   ]
  },
  {
   "cell_type": "code",
   "execution_count": 12,
   "id": "90f62a59",
   "metadata": {},
   "outputs": [
    {
     "data": {
      "text/plain": [
       "MLPClassifier(activation='logistic', hidden_layer_sizes=(50,), max_iter=1000,\n",
       "              random_state=123)"
      ]
     },
     "execution_count": 12,
     "metadata": {},
     "output_type": "execute_result"
    }
   ],
   "source": [
    "model = MLPClassifier(**mlp_search.best_params_, random_state=123, activation='logistic', max_iter=1000)\n",
    "model.fit(X, y)"
   ]
  },
  {
   "cell_type": "markdown",
   "id": "7b86ae3a",
   "metadata": {},
   "source": [
    "# Testowanie modelu"
   ]
  },
  {
   "cell_type": "code",
   "execution_count": 13,
   "id": "5bef6ac0",
   "metadata": {},
   "outputs": [],
   "source": [
    "y_pred = model.predict(X)"
   ]
  },
  {
   "cell_type": "markdown",
   "id": "9fc22570",
   "metadata": {},
   "source": [
    "### Classification report:"
   ]
  },
  {
   "cell_type": "code",
   "execution_count": 14,
   "id": "f03b28cc",
   "metadata": {
    "scrolled": true
   },
   "outputs": [
    {
     "name": "stdout",
     "output_type": "stream",
     "text": [
      "              precision    recall  f1-score   support\n",
      "\n",
      "           0       0.83      0.86      0.85       410\n",
      "           1       0.89      0.86      0.87       508\n",
      "\n",
      "    accuracy                           0.86       918\n",
      "   macro avg       0.86      0.86      0.86       918\n",
      "weighted avg       0.86      0.86      0.86       918\n",
      "\n"
     ]
    }
   ],
   "source": [
    "print(classification_report(y, y_pred))"
   ]
  },
  {
   "cell_type": "markdown",
   "id": "90264d16",
   "metadata": {},
   "source": [
    "### Confusion matrix:"
   ]
  },
  {
   "cell_type": "code",
   "execution_count": 15,
   "id": "fcfbba72",
   "metadata": {},
   "outputs": [
    {
     "data": {
      "text/plain": [
       "<sklearn.metrics._plot.confusion_matrix.ConfusionMatrixDisplay at 0x2558c2ae370>"
      ]
     },
     "execution_count": 15,
     "metadata": {},
     "output_type": "execute_result"
    },
    {
     "data": {
      "image/png": "[encoded data removed]",
      "text/plain": [
       "<Figure size 432x288 with 2 Axes>"
      ]
     },
     "metadata": {
      "needs_background": "light"
     },
     "output_type": "display_data"
    }
   ],
   "source": [
    "conf_matrix_disp = ConfusionMatrixDisplay(confusion_matrix(y, y_pred))\n",
    "conf_matrix_disp.plot()"
   ]
  },
  {
   "cell_type": "markdown",
   "id": "bddf8fb9",
   "metadata": {},
   "source": [
    "# Zapisanie modelu i label encoder do pickle"
   ]
  },
  {
   "cell_type": "code",
   "execution_count": 16,
   "id": "b95e5474",
   "metadata": {},
   "outputs": [],
   "source": [
    "pickle.dump(model, open('model.pkl', \"wb\"))\n",
    "pickle.dump(le_dict, open('le_dict.pkl', \"wb\"))"
   ]
  },
  {
   "cell_type": "markdown",
   "id": "12b0fc24",
   "metadata": {},
   "source": [
    "# Przykladowe uzycie modelu"
   ]
  },
  {
   "cell_type": "code",
   "execution_count": 17,
   "id": "73dd2e9e",
   "metadata": {},
   "outputs": [],
   "source": [
    "model_pkl = pickle.load(open('model.pkl', 'rb'))\n",
    "le_dict_pkl = pickle.load(open('le_dict.pkl', 'rb'))"
   ]
  },
  {
   "cell_type": "code",
   "execution_count": 18,
   "id": "282af587",
   "metadata": {},
   "outputs": [
    {
     "data": {
      "text/plain": [
       "MLPClassifier(activation='logistic', hidden_layer_sizes=(50,), max_iter=1000,\n",
       "              random_state=123)"
      ]
     },
     "execution_count": 18,
     "metadata": {},
     "output_type": "execute_result"
    }
   ],
   "source": [
    "model_pkl"
   ]
  },
  {
   "cell_type": "code",
   "execution_count": 19,
   "id": "acb1f05d",
   "metadata": {},
   "outputs": [
    {
     "data": {
      "text/plain": [
       "{'Sex': LabelEncoder(),\n",
       " 'ChestPainType': LabelEncoder(),\n",
       " 'RestingECG': LabelEncoder(),\n",
       " 'ExerciseAngina': LabelEncoder(),\n",
       " 'ST_Slope': LabelEncoder()}"
      ]
     },
     "execution_count": 19,
     "metadata": {},
     "output_type": "execute_result"
    }
   ],
   "source": [
    "le_dict_pkl"
   ]
  },
  {
   "cell_type": "markdown",
   "id": "d820712f",
   "metadata": {},
   "source": [
    "### Wybranie wiersza z danych bez 'Oldpeak'"
   ]
  },
  {
   "cell_type": "code",
   "execution_count": 20,
   "id": "b326f35e",
   "metadata": {},
   "outputs": [
    {
     "data": {
      "text/html": [
       "<div>\n",
       "<style scoped>\n",
       "    .dataframe tbody tr th:only-of-type {\n",
       "        vertical-align: middle;\n",
       "    }\n",
       "\n",
       "    .dataframe tbody tr th {\n",
       "        vertical-align: top;\n",
       "    }\n",
       "\n",
       "    .dataframe thead th {\n",
       "        text-align: right;\n",
       "    }\n",
       "</style>\n",
       "<table border=\"1\" class=\"dataframe\">\n",
       "  <thead>\n",
       "    <tr style=\"text-align: right;\">\n",
       "      <th></th>\n",
       "      <th>Age</th>\n",
       "      <th>Sex</th>\n",
       "      <th>ChestPainType</th>\n",
       "      <th>RestingBP</th>\n",
       "      <th>Cholesterol</th>\n",
       "      <th>FastingBS</th>\n",
       "      <th>RestingECG</th>\n",
       "      <th>MaxHR</th>\n",
       "      <th>ExerciseAngina</th>\n",
       "      <th>ST_Slope</th>\n",
       "    </tr>\n",
       "  </thead>\n",
       "  <tbody>\n",
       "    <tr>\n",
       "      <th>10</th>\n",
       "      <td>37</td>\n",
       "      <td>F</td>\n",
       "      <td>NAP</td>\n",
       "      <td>130</td>\n",
       "      <td>211</td>\n",
       "      <td>0</td>\n",
       "      <td>Normal</td>\n",
       "      <td>142</td>\n",
       "      <td>N</td>\n",
       "      <td>Up</td>\n",
       "    </tr>\n",
       "  </tbody>\n",
       "</table>\n",
       "</div>"
      ],
      "text/plain": [
       "    Age Sex ChestPainType  RestingBP  Cholesterol  FastingBS RestingECG  \\\n",
       "10   37   F           NAP        130          211          0     Normal   \n",
       "\n",
       "    MaxHR ExerciseAngina ST_Slope  \n",
       "10    142              N       Up  "
      ]
     },
     "execution_count": 20,
     "metadata": {},
     "output_type": "execute_result"
    }
   ],
   "source": [
    "selected_row = df_copy.iloc[[10]].drop(['HeartDisease'], axis=1)\n",
    "selected_row"
   ]
  },
  {
   "cell_type": "markdown",
   "id": "f621c104",
   "metadata": {},
   "source": [
    "### Kodowanie zmiennych kategorycznych:"
   ]
  },
  {
   "cell_type": "code",
   "execution_count": 21,
   "id": "ea9de9c4",
   "metadata": {},
   "outputs": [],
   "source": [
    "for col in le_dict_pkl.keys():\n",
    "    selected_row[col] = le_dict_pkl[col].transform(selected_row[col])"
   ]
  },
  {
   "cell_type": "code",
   "execution_count": 22,
   "id": "c1f65ac2",
   "metadata": {},
   "outputs": [
    {
     "data": {
      "text/html": [
       "<div>\n",
       "<style scoped>\n",
       "    .dataframe tbody tr th:only-of-type {\n",
       "        vertical-align: middle;\n",
       "    }\n",
       "\n",
       "    .dataframe tbody tr th {\n",
       "        vertical-align: top;\n",
       "    }\n",
       "\n",
       "    .dataframe thead th {\n",
       "        text-align: right;\n",
       "    }\n",
       "</style>\n",
       "<table border=\"1\" class=\"dataframe\">\n",
       "  <thead>\n",
       "    <tr style=\"text-align: right;\">\n",
       "      <th></th>\n",
       "      <th>Age</th>\n",
       "      <th>Sex</th>\n",
       "      <th>ChestPainType</th>\n",
       "      <th>RestingBP</th>\n",
       "      <th>Cholesterol</th>\n",
       "      <th>FastingBS</th>\n",
       "      <th>RestingECG</th>\n",
       "      <th>MaxHR</th>\n",
       "      <th>ExerciseAngina</th>\n",
       "      <th>ST_Slope</th>\n",
       "    </tr>\n",
       "  </thead>\n",
       "  <tbody>\n",
       "    <tr>\n",
       "      <th>10</th>\n",
       "      <td>37</td>\n",
       "      <td>0</td>\n",
       "      <td>2</td>\n",
       "      <td>130</td>\n",
       "      <td>211</td>\n",
       "      <td>0</td>\n",
       "      <td>1</td>\n",
       "      <td>142</td>\n",
       "      <td>0</td>\n",
       "      <td>2</td>\n",
       "    </tr>\n",
       "  </tbody>\n",
       "</table>\n",
       "</div>"
      ],
      "text/plain": [
       "    Age  Sex  ChestPainType  RestingBP  Cholesterol  FastingBS  RestingECG  \\\n",
       "10   37    0              2        130          211          0           1   \n",
       "\n",
       "    MaxHR  ExerciseAngina  ST_Slope  \n",
       "10    142               0         2  "
      ]
     },
     "execution_count": 22,
     "metadata": {},
     "output_type": "execute_result"
    }
   ],
   "source": [
    "selected_row"
   ]
  },
  {
   "cell_type": "markdown",
   "id": "7dbd4246",
   "metadata": {},
   "source": [
    "### Predykcja:\n",
    "\n",
    "Predykcja musi byc robiona na pd.DataFrame, wiec jesli np dane sa wstawiane do slownika to trzeba zrobic: <br>\n",
    "\n",
    "    slownik_z_danymi = {\n",
    "        'kolumna1': [jakas wartosc],\n",
    "        'kolumna2': [jakas wartosc],\n",
    "              ....\n",
    "        }\n",
    "    dane_do_predict = pd.DataFrame.from_dict(slownik_z_danymi)"
   ]
  },
  {
   "cell_type": "code",
   "execution_count": 23,
   "id": "a91c08b2",
   "metadata": {},
   "outputs": [],
   "source": [
    "prediction = model_pkl.predict(selected_row)[0]"
   ]
  },
  {
   "cell_type": "code",
   "execution_count": 24,
   "id": "c2d23e91",
   "metadata": {},
   "outputs": [
    {
     "name": "stdout",
     "output_type": "stream",
     "text": [
      "Predicted value = 0\n",
      "Real value = 0\n"
     ]
    }
   ],
   "source": [
    "print(\"Predicted value = {}\".format(prediction))\n",
    "print(\"Real value = {}\".format(df_copy.iloc[[10]]['HeartDisease'].item()))"
   ]
  },
  {
   "cell_type": "code",
   "execution_count": null,
   "id": "bb32c0d2",
   "metadata": {},
   "outputs": [],
   "source": []
  }
 ],
 "metadata": {
  "kernelspec": {
   "display_name": "Python 3",
   "language": "python",
   "name": "python3"
  },
  "language_info": {
   "codemirror_mode": {
    "name": "ipython",
    "version": 3
   },
   "file_extension": ".py",
   "mimetype": "text/x-python",
   "name": "python",
   "nbconvert_exporter": "python",
   "pygments_lexer": "ipython3",
   "version": "3.8.8"
  }
 },
 "nbformat": 4,
 "nbformat_minor": 5
}
